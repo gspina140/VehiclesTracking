{
 "cells": [
  {
   "cell_type": "code",
   "execution_count": 1,
   "metadata": {},
   "outputs": [],
   "source": [
    "import onnx\n",
    "import onnxruntime\n",
    "import numpy as np\n",
    "import cv2\n",
    "from PIL import Image\n",
    "import torch"
   ]
  },
  {
   "cell_type": "code",
   "execution_count": 38,
   "metadata": {},
   "outputs": [
    {
     "data": {
      "text/plain": [
       "(1, 3, 640, 640)"
      ]
     },
     "execution_count": 38,
     "metadata": {},
     "output_type": "execute_result"
    }
   ],
   "source": [
    "session = onnxruntime.InferenceSession('average_model.onnx')\n",
    "image_raw = cv2.imread('moto.jpeg')\n",
    "image = cv2.resize(np.array(image_raw), (640,640), interpolation = cv2.INTER_LINEAR)\n",
    "image = np.transpose(image, (2,0,1))\n",
    "\n",
    "image = np.expand_dims(image, axis=0)\n",
    "\n",
    "\n",
    "image.shape"
   ]
  },
  {
   "cell_type": "code",
   "execution_count": 34,
   "metadata": {},
   "outputs": [
    {
     "name": "stdout",
     "output_type": "stream",
     "text": [
      "Input name  : onnx::Cast_0\n",
      "Input shape : [1, 3, 640, 640]\n",
      "Input type  : tensor(uint8)\n",
      "Output name  : pre_nms_bboxes_xyxy\n",
      "Output shape : [1, 1000, 4]\n",
      "Output type  : tensor(float)\n",
      "Output name  : pre_nms_scores\n",
      "Output shape : [1, 1000, 5]\n",
      "Output type  : tensor(float)\n"
     ]
    }
   ],
   "source": [
    "input_name = session.get_inputs()[0].name\n",
    "print(\"Input name  :\", input_name)\n",
    "input_shape = session.get_inputs()[0].shape\n",
    "print(\"Input shape :\", input_shape)\n",
    "input_type = session.get_inputs()[0].type\n",
    "print(\"Input type  :\", input_type)\n",
    "\n",
    "output_name = session.get_outputs()[0].name\n",
    "print(\"Output name  :\", output_name)\n",
    "output_shape = session.get_outputs()[0].shape\n",
    "print(\"Output shape :\", output_shape)\n",
    "output_type = session.get_outputs()[0].type\n",
    "print(\"Output type  :\", output_type)\n",
    "output_name = session.get_outputs()[1].name\n",
    "print(\"Output name  :\", output_name)\n",
    "output_shape = session.get_outputs()[1].shape\n",
    "print(\"Output shape :\", output_shape)\n",
    "output_type = session.get_outputs()[1].type\n",
    "print(\"Output type  :\", output_type)"
   ]
  },
  {
   "cell_type": "code",
   "execution_count": 39,
   "metadata": {},
   "outputs": [
    {
     "name": "stdout",
     "output_type": "stream",
     "text": [
      "[5.301367335124764, 5.23847967707126, 5.425649795421001, 4.4850088164562445, 4.4511013926459215, 4.490910687250121, 4.196162900164773, 4.5265236788883305, 4.312882388386293, 4.5153887808149715, 4.788242372074492, 4.8907177546772695, 4.762168821068288, 4.865302145380096, 4.844090268634652, 4.627686875930932, 4.342046473300524, 4.559710043463041, 4.514980489248903, 4.37568032515813, 4.478285519658078, 4.389601772458449, 4.503418656588215, 4.61643547639724, 4.593537534169762, 4.657863934488128, 4.688914104291152, 4.000862307435494, 4.067689043153753, 4.752370064278114, 4.642906244223078, 3.5828265718149197, 3.556701275706625, 3.983073638787805, 3.9719164007234915, 3.437804751105075, 4.30918249616527, 4.759558711721464, 3.9380251962767048, 3.9477548653916927, 3.497386739244272, 3.4952038179459124, 4.225079478924486, 4.089410617657095, 3.8454381593109885, 3.7839019901484945, 3.610764705224038, 3.9902657510840673, 4.484021086414315]\n"
     ]
    }
   ],
   "source": [
    "import time\n",
    "\n",
    "times=[]\n",
    "for i in range(1,50):\n",
    "    t0 = time.time()\n",
    "    results = session.run(None, {'onnx::Cast_0':image})\n",
    "    t1 = time.time()\n",
    "    times.append(1/(t1-t0))\n",
    "    \n",
    "print(times)"
   ]
  },
  {
   "cell_type": "code",
   "execution_count": 41,
   "metadata": {},
   "outputs": [],
   "source": [
    "vec = []\n",
    "boxes = []\n",
    "scores = []\n",
    "import torch\n",
    "sf = torch.nn.Softmax(dim=1)\n",
    "for i in range(0,1000):\n",
    "    xc,yc,w,h = results[0][0,i,:]\n",
    "    out = list(results[1][0,i,:]) \n",
    "    boxes.append( (xc,yc,w,h) )\n",
    "    scores.append(max(out))\n",
    "    "
   ]
  },
  {
   "cell_type": "code",
   "execution_count": 42,
   "metadata": {},
   "outputs": [],
   "source": [
    "\n",
    "def nms(bounding_boxes, confidence_score, threshold):\n",
    "    # If no bounding boxes, return empty list\n",
    "    if len(bounding_boxes) == 0:\n",
    "        return [], []\n",
    "\n",
    "    # Bounding boxes\n",
    "    boxes = np.array(bounding_boxes)\n",
    "\n",
    "    # coordinates of bounding boxes\n",
    "    start_x = boxes[:, 0]\n",
    "    start_y = boxes[:, 1]\n",
    "    end_x = boxes[:, 2]\n",
    "    end_y = boxes[:, 3]\n",
    "\n",
    "    # Confidence scores of bounding boxes\n",
    "    score = np.array(confidence_score)\n",
    "\n",
    "    # Picked bounding boxes\n",
    "    picked_boxes = []\n",
    "    picked_score = []\n",
    "\n",
    "    # Compute areas of bounding boxes\n",
    "    areas = (end_x - start_x + 1) * (end_y - start_y + 1)\n",
    "\n",
    "    # Sort by confidence score of bounding boxes\n",
    "    order = np.argsort(score)\n",
    "\n",
    "    # Iterate bounding boxes\n",
    "    while order.size > 0:\n",
    "        # The index of largest confidence score\n",
    "        index = order[-1]\n",
    "\n",
    "        # Pick the bounding box with largest confidence score\n",
    "        picked_boxes.append(bounding_boxes[index])\n",
    "        picked_score.append(confidence_score[index])\n",
    "\n",
    "        # Compute ordinates of intersection-over-union(IOU)\n",
    "        x1 = np.maximum(start_x[index], start_x[order[:-1]])\n",
    "        x2 = np.minimum(end_x[index], end_x[order[:-1]])\n",
    "        y1 = np.maximum(start_y[index], start_y[order[:-1]])\n",
    "        y2 = np.minimum(end_y[index], end_y[order[:-1]])\n",
    "\n",
    "        # Compute areas of intersection-over-union\n",
    "        w = np.maximum(0.0, x2 - x1 + 1)\n",
    "        h = np.maximum(0.0, y2 - y1 + 1)\n",
    "        intersection = w * h\n",
    "\n",
    "        # Compute the ratio between intersection and union\n",
    "        ratio = intersection / (areas[index] + areas[order[:-1]] - intersection)\n",
    "\n",
    "        left = np.where(ratio < threshold)\n",
    "        order = order[left]\n",
    "\n",
    "    return picked_boxes, picked_score"
   ]
  },
  {
   "cell_type": "code",
   "execution_count": 43,
   "metadata": {},
   "outputs": [
    {
     "data": {
      "text/plain": [
       "26"
      ]
     },
     "execution_count": 43,
     "metadata": {},
     "output_type": "execute_result"
    }
   ],
   "source": [
    "boxes_nms, scores_nms = nms(boxes, scores, 0.05)\n",
    "len(boxes_nms)"
   ]
  },
  {
   "cell_type": "code",
   "execution_count": 44,
   "metadata": {},
   "outputs": [],
   "source": [
    "from PIL import ImageDraw\n",
    "from PIL import Image\n",
    "image = Image.open('moto3.jpeg')\n",
    "image = image.resize((640,640))\n",
    "draw = ImageDraw.Draw(image)\n",
    "for box in boxes_nms:\n",
    "    x1,y1,x2,y2 = box[0],box[1],box[2],box[3]\n",
    "    #print(f'{x1}_{y1}_{x2}_{y2}')\n",
    "    bbox = [(x1,y1),(x2,y2)]\n",
    "    draw.rectangle(bbox, outline=\"black\")\n",
    "    \n",
    "image.show()"
   ]
  }
 ],
 "metadata": {
  "interpreter": {
   "hash": "916dbcbb3f70747c44a77c7bcd40155683ae19c65e1c03b4aa3499c5328201f1"
  },
  "kernelspec": {
   "display_name": "Python 3.10.12 64-bit",
   "language": "python",
   "name": "python3"
  },
  "language_info": {
   "codemirror_mode": {
    "name": "ipython",
    "version": 3
   },
   "file_extension": ".py",
   "mimetype": "text/x-python",
   "name": "python",
   "nbconvert_exporter": "python",
   "pygments_lexer": "ipython3",
   "version": "3.10.12"
  },
  "orig_nbformat": 4
 },
 "nbformat": 4,
 "nbformat_minor": 2
}
